{
  "nbformat": 4,
  "nbformat_minor": 0,
  "metadata": {
    "colab": {
      "name": "wbcvgg16",
      "provenance": []
    },
    "kernelspec": {
      "name": "python3",
      "display_name": "Python 3"
    },
    "accelerator": "GPU"
  },
  "cells": [
    {
      "cell_type": "code",
      "metadata": {
        "id": "MGSIaO6tLva0",
        "colab_type": "code",
        "colab": {
          "base_uri": "https://localhost:8080/",
          "height": 34
        },
        "outputId": "f1403b2d-ffb3-4473-c917-8e927afb92a9"
      },
      "source": [
        "import numpy as np\n",
        "from keras.models import Sequential\n",
        "from keras import applications\n",
        "from keras import optimizers\n",
        "from keras.layers import Dense, Dropout, Activation, Flatten\n",
        "from keras.layers import Conv2D, MaxPooling2D, Lambda\n",
        "from keras.layers import Dense\n",
        "from keras.wrappers.scikit_learn import KerasClassifier\n",
        "from keras.utils import np_utils\n",
        "from keras.preprocessing.image import ImageDataGenerator\n",
        "from sklearn.model_selection import cross_val_score\n",
        "from sklearn.model_selection import KFold\n",
        "from sklearn.preprocessing import LabelEncoder\n",
        "from sklearn.pipeline import Pipeline\n",
        "from sklearn.model_selection import train_test_split\n",
        "from sklearn.metrics import roc_curve, auc\n",
        "from sklearn.utils import shuffle\n",
        "import csv\n",
        "import cv2\n",
        "import scipy\n",
        "import os"
      ],
      "execution_count": null,
      "outputs": [
        {
          "output_type": "stream",
          "text": [
            "Using TensorFlow backend.\n"
          ],
          "name": "stderr"
        }
      ]
    },
    {
      "cell_type": "code",
      "metadata": {
        "id": "iDYAtkg9L3om",
        "colab_type": "code",
        "colab": {}
      },
      "source": [
        "epochs = 20\n",
        "# BASE_PATH = '/home/ec2-user/cell_classifier/'\n",
        "BASE_DIR = '../'\n",
        "batch_size = 32\n",
        "num_classes = 4"
      ],
      "execution_count": null,
      "outputs": []
    },
    {
      "cell_type": "code",
      "metadata": {
        "id": "WhGbbQNEL4Is",
        "colab_type": "code",
        "colab": {}
      },
      "source": [
        "def get_data(folder):\n",
        "    X = []\n",
        "    y = []\n",
        "\n",
        "    for wbc_type in os.listdir(folder):\n",
        "        if not wbc_type.startswith('.'):\n",
        "#             if wbc_type in ['NEUTROPHIL', 'EOSINOPHIL']:\n",
        "#                 label = 'MONONUCLEAR'\n",
        "#             else:\n",
        "#                 label = 'POLYNUCLEAR'\n",
        "            for image_filename in os.listdir(folder + wbc_type):\n",
        "                img_file = cv2.imread(folder + wbc_type + '/' + image_filename)\n",
        "                img_file = scipy.misc.imresize(arr=img_file, size=(120, 160, 3))\n",
        "                if img_file is not None:\n",
        "                    img_arr = np.asarray(img_file)\n",
        "                    X.append(img_arr)\n",
        "                    y.append(wbc_type)\n",
        "    X = np.asarray(X)\n",
        "    y = np.asarray(y)\n",
        "    return X,y"
      ],
      "execution_count": null,
      "outputs": []
    },
    {
      "cell_type": "code",
      "metadata": {
        "id": "fhbQF6iePLAV",
        "colab_type": "code",
        "colab": {
          "base_uri": "https://localhost:8080/",
          "height": 85
        },
        "outputId": "0a48fde0-ef55-40bc-f998-c9f78b7df06a"
      },
      "source": [
        "X_test, y_test  = get_data(BASE_DIR + '/content/drive/My Drive/Colab Notebooks/Dataset1/TEST/')"
      ],
      "execution_count": null,
      "outputs": [
        {
          "output_type": "stream",
          "text": [
            "/usr/local/lib/python3.6/dist-packages/ipykernel_launcher.py:13: DeprecationWarning: `imresize` is deprecated!\n",
            "`imresize` is deprecated in SciPy 1.0.0, and will be removed in 1.3.0.\n",
            "Use Pillow instead: ``numpy.array(Image.fromarray(arr).resize())``.\n",
            "  del sys.path[0]\n"
          ],
          "name": "stderr"
        }
      ]
    },
    {
      "cell_type": "code",
      "metadata": {
        "id": "c2f42C6XRDDr",
        "colab_type": "code",
        "colab": {
          "base_uri": "https://localhost:8080/",
          "height": 85
        },
        "outputId": "a4b9c338-32a0-4c0d-f992-e9b6bb7a2654"
      },
      "source": [
        "X_train, y_train = get_data(BASE_DIR + '/content/drive/My Drive/Colab Notebooks/Dataset1/TRAIN/')"
      ],
      "execution_count": null,
      "outputs": [
        {
          "output_type": "stream",
          "text": [
            "/usr/local/lib/python3.6/dist-packages/ipykernel_launcher.py:13: DeprecationWarning: `imresize` is deprecated!\n",
            "`imresize` is deprecated in SciPy 1.0.0, and will be removed in 1.3.0.\n",
            "Use Pillow instead: ``numpy.array(Image.fromarray(arr).resize())``.\n",
            "  del sys.path[0]\n"
          ],
          "name": "stderr"
        }
      ]
    },
    {
      "cell_type": "code",
      "metadata": {
        "id": "Qy-4-5vmQzof",
        "colab_type": "code",
        "colab": {
          "base_uri": "https://localhost:8080/",
          "height": 85
        },
        "outputId": "f33e7a32-f080-47bf-eb2e-2ba8adf50bbb"
      },
      "source": [
        "X_test_simple, y_test_simple = get_data(BASE_DIR + '/content/drive/My Drive/Colab Notebooks/Dataset1/TEST_SIMPLE/')"
      ],
      "execution_count": null,
      "outputs": [
        {
          "output_type": "stream",
          "text": [
            "/usr/local/lib/python3.6/dist-packages/ipykernel_launcher.py:13: DeprecationWarning: `imresize` is deprecated!\n",
            "`imresize` is deprecated in SciPy 1.0.0, and will be removed in 1.3.0.\n",
            "Use Pillow instead: ``numpy.array(Image.fromarray(arr).resize())``.\n",
            "  del sys.path[0]\n"
          ],
          "name": "stderr"
        }
      ]
    },
    {
      "cell_type": "code",
      "metadata": {
        "id": "dIAyiyyaSU_R",
        "colab_type": "code",
        "colab": {}
      },
      "source": [
        "X_train = X_train * 1./255.\n",
        "X_test = X_test * 1./255.\n",
        "X_test_simple = X_test_simple * 1./255."
      ],
      "execution_count": null,
      "outputs": []
    },
    {
      "cell_type": "code",
      "metadata": {
        "id": "McbJqJ3tSbUf",
        "colab_type": "code",
        "colab": {}
      },
      "source": [
        "encoder = LabelEncoder()\n",
        "encoder.fit(y_test_simple)\n",
        "y_train = np_utils.to_categorical(encoder.transform(y_train))\n",
        "y_test = np_utils.to_categorical(encoder.transform(y_test))\n",
        "y_test_simple = np_utils.to_categorical(encoder.transform(y_test_simple))"
      ],
      "execution_count": null,
      "outputs": []
    },
    {
      "cell_type": "code",
      "metadata": {
        "id": "-gN5Vjl6Sh4d",
        "colab_type": "code",
        "colab": {
          "base_uri": "https://localhost:8080/",
          "height": 105
        },
        "outputId": "692be052-6042-4de6-98ae-5c9cbe547df0"
      },
      "source": [
        "\n",
        "from keras.models import Model\n",
        "from keras.layers import Input\n",
        "from keras import optimizers\n",
        "\n",
        "\n",
        "base_model = applications.VGG16(include_top=False, weights='imagenet')\n",
        "input = Input(shape=(120, 160, 3),name = 'image_input')\n",
        "vgg_output = base_model(input)\n",
        "\n",
        "top_model = Flatten()(vgg_output)\n",
        "top_model = Dense(64, activation='relu')(top_model)\n",
        "predictions = Dense(num_classes, activation='softmax', name='prediction_layer')(top_model)\n",
        "\n",
        "model = Model(input=input, output=predictions)\n",
        "\n",
        "# first: train only the top layers (which were randomly initialized)\n",
        "# i.e. freeze all convolutional InceptionV3 layers\n",
        "layers = base_model.layers[:-2]\n",
        "for layer in layers:\n",
        "    layer.trainable = False\n",
        " \n",
        "# compile the model (should be done *after* setting layers to non-trainable)\n",
        "model.compile(optimizer='rmsprop', loss='categorical_crossentropy', metrics=['accuracy'])\n",
        "\n"
      ],
      "execution_count": null,
      "outputs": [
        {
          "output_type": "stream",
          "text": [
            "Downloading data from https://github.com/fchollet/deep-learning-models/releases/download/v0.1/vgg16_weights_tf_dim_ordering_tf_kernels_notop.h5\n",
            "58892288/58889256 [==============================] - 3s 0us/step\n"
          ],
          "name": "stdout"
        },
        {
          "output_type": "stream",
          "text": [
            "/usr/local/lib/python3.6/dist-packages/ipykernel_launcher.py:15: UserWarning: Update your `Model` call to the Keras 2 API: `Model(inputs=Tensor(\"im..., outputs=Tensor(\"pr...)`\n",
            "  from ipykernel import kernelapp as app\n"
          ],
          "name": "stderr"
        }
      ]
    },
    {
      "cell_type": "code",
      "metadata": {
        "id": "eJOjm-dKTAa1",
        "colab_type": "code",
        "colab": {
          "base_uri": "https://localhost:8080/",
          "height": 411
        },
        "outputId": "089b91e7-4aa2-4f66-d0e6-74b928fd8946"
      },
      "source": [
        "model.fit(X_train, y_train, epochs=10, batch_size=batch_size, validation_split=0.2, shuffle=True, verbose=1)"
      ],
      "execution_count": null,
      "outputs": [
        {
          "output_type": "stream",
          "text": [
            "Train on 1121 samples, validate on 281 samples\n",
            "Epoch 1/10\n",
            "1121/1121 [==============================] - 6s 5ms/step - loss: 0.0822 - accuracy: 0.9911 - val_loss: 2.2702 - val_accuracy: 0.8399\n",
            "Epoch 2/10\n",
            "1121/1121 [==============================] - 6s 5ms/step - loss: 0.0094 - accuracy: 0.9991 - val_loss: 3.3194 - val_accuracy: 0.7829\n",
            "Epoch 3/10\n",
            "1121/1121 [==============================] - 6s 5ms/step - loss: 0.0034 - accuracy: 0.9991 - val_loss: 3.6012 - val_accuracy: 0.7580\n",
            "Epoch 4/10\n",
            "1121/1121 [==============================] - 6s 5ms/step - loss: 0.0095 - accuracy: 0.9991 - val_loss: 2.9398 - val_accuracy: 0.7687\n",
            "Epoch 5/10\n",
            "1121/1121 [==============================] - 6s 5ms/step - loss: 0.0056 - accuracy: 0.9991 - val_loss: 5.0479 - val_accuracy: 0.6512\n",
            "Epoch 6/10\n",
            "1121/1121 [==============================] - 6s 5ms/step - loss: 0.0137 - accuracy: 0.9991 - val_loss: 4.9050 - val_accuracy: 0.6370\n",
            "Epoch 7/10\n",
            "1121/1121 [==============================] - 6s 5ms/step - loss: 0.0046 - accuracy: 0.9982 - val_loss: 2.4587 - val_accuracy: 0.8327\n",
            "Epoch 8/10\n",
            "1121/1121 [==============================] - 6s 5ms/step - loss: 0.0049 - accuracy: 0.9991 - val_loss: 3.4690 - val_accuracy: 0.7794\n",
            "Epoch 9/10\n",
            "1121/1121 [==============================] - 6s 5ms/step - loss: 0.0038 - accuracy: 0.9982 - val_loss: 6.1461 - val_accuracy: 0.6690\n",
            "Epoch 10/10\n",
            "1121/1121 [==============================] - 6s 5ms/step - loss: 0.0272 - accuracy: 0.9955 - val_loss: 1.8673 - val_accuracy: 0.8399\n"
          ],
          "name": "stdout"
        },
        {
          "output_type": "execute_result",
          "data": {
            "text/plain": [
              "<keras.callbacks.callbacks.History at 0x7f4127a465c0>"
            ]
          },
          "metadata": {
            "tags": []
          },
          "execution_count": 22
        }
      ]
    },
    {
      "cell_type": "code",
      "metadata": {
        "id": "jhRG9bqITSh1",
        "colab_type": "code",
        "colab": {}
      },
      "source": [
        "model.save_weights('vgg_top.h5')"
      ],
      "execution_count": null,
      "outputs": []
    }
  ]
}