{
  "nbformat": 4,
  "nbformat_minor": 0,
  "metadata": {
    "colab": {
      "name": "vgg16 feature extraction",
      "provenance": [],
      "toc_visible": true
    },
    "kernelspec": {
      "name": "python3",
      "display_name": "Python 3"
    },
    "accelerator": "GPU"
  },
  "cells": [
    {
      "cell_type": "code",
      "metadata": {
        "id": "IjUhHOe9utAh",
        "colab_type": "code",
        "colab": {}
      },
      "source": [
        "import os\n",
        "os.chdir(\"/content/drive/My Drive/Colab Notebooks/images/TEST/EOSINOPHIL\")\n",
        "os.chdir(\"/content/drive/My Drive/Colab Notebooks/images/TEST/EOSINOPHIL\")"
      ],
      "execution_count": null,
      "outputs": []
    },
    {
      "cell_type": "code",
      "metadata": {
        "id": "35XcGQfZp0yK",
        "colab_type": "code",
        "colab": {}
      },
      "source": [
        "from keras.preprocessing import image\n",
        "from keras.applications.vgg16 import VGG16\n",
        "from keras.applications.vgg16 import preprocess_input\n",
        "import numpy as np\n",
        "from keras.layers import merge, Input"
      ],
      "execution_count": null,
      "outputs": []
    },
    {
      "cell_type": "code",
      "metadata": {
        "id": "4rcNLB7KqRR7",
        "colab_type": "code",
        "colab": {}
      },
      "source": [
        "image_input = Input(shape=(224,224,3))\n"
      ],
      "execution_count": null,
      "outputs": []
    },
    {
      "cell_type": "code",
      "metadata": {
        "id": "9XfvBvxyqXny",
        "colab_type": "code",
        "colab": {}
      },
      "source": [
        "model = VGG16(include_top=False,weights=\"imagenet\",input_tensor=image_input)"
      ],
      "execution_count": null,
      "outputs": []
    },
    {
      "cell_type": "code",
      "metadata": {
        "id": "TqqENiqLvHVj",
        "colab_type": "code",
        "colab": {}
      },
      "source": [
        "data_dir = os.listdir(\"/content/drive/My Drive/Colab Notebooks/images/TEST/EOSINOPHIL\")"
      ],
      "execution_count": null,
      "outputs": []
    },
    {
      "cell_type": "code",
      "metadata": {
        "id": "w_OlfybHvP_n",
        "colab_type": "code",
        "colab": {}
      },
      "source": [
        "vgg16_feature_list=[]\n",
        "for i in data_dir:\n",
        "  img_path =\"/content/drive/My Drive/Colab Notebooks/images/TEST/EOSINOPHIL\" +\"/\"+i\n",
        "  img = image.load_img(img_path, target_size=(224, 224))\n",
        "  img_data = image.img_to_array(img)\n",
        "  img_data = np.expand_dims(img_data, axis=0)\n",
        "  img_data = preprocess_input(img_data)\n",
        "\n",
        "  vgg16_feature = model.predict(img_data)\n",
        "  vgg16_feature_np = np.array(vgg16_feature)\n",
        "  vgg16_feature_list.append(vgg16_feature_np.flatten())\n"
      ],
      "execution_count": null,
      "outputs": []
    },
    {
      "cell_type": "code",
      "metadata": {
        "id": "23dC3mGUwEZM",
        "colab_type": "code",
        "colab": {}
      },
      "source": [
        "vgg16_feature_list_np = np.array(vgg16_feature_list)\n"
      ],
      "execution_count": null,
      "outputs": []
    },
    {
      "cell_type": "code",
      "metadata": {
        "id": "mmpAymM-wJPb",
        "colab_type": "code",
        "colab": {
          "base_uri": "https://localhost:8080/",
          "height": 34
        },
        "outputId": "20ab9dc7-10df-4662-eb5d-c15001af66ad"
      },
      "source": [
        "\n",
        "vgg16_feature_list_np.shape"
      ],
      "execution_count": null,
      "outputs": [
        {
          "output_type": "execute_result",
          "data": {
            "text/plain": [
              "(130, 25088)"
            ]
          },
          "metadata": {
            "tags": []
          },
          "execution_count": 55
        }
      ]
    }
  ]
}